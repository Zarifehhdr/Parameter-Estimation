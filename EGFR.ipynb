{
 "cells": [
  {
   "cell_type": "markdown",
   "metadata": {},
   "source": [
    "# Parameter Estimation for Kholodenko's Model of EGFR Pathway"
   ]
  },
  {
   "cell_type": "code",
   "execution_count": 1,
   "metadata": {},
   "outputs": [],
   "source": [
    "import petab\n",
    "import fides\n",
    "import os\n",
    "import libsbml\n",
    "import amici\n",
    "import amici.petab_simulate\n",
    "import matplotlib.pyplot as plt\n",
    "import pypesto\n",
    "import pypesto.optimize as optimize\n",
    "import pypesto.petab\n",
    "import petab.visualize\n",
    "import pypesto.visualize as visualize\n",
    "from petab.visualize import plot_data_and_simulation\n",
    "from petab.visualize import plot_petab_problem\n",
    "import importlib\n",
    "import sys"
   ]
  },
  {
   "cell_type": "code",
   "execution_count": null,
   "metadata": {},
   "outputs": [],
   "source": [
    "# import to petab\n",
    "petab_problem = petab.Problem.from_yaml(\n",
    "    \n",
    "   \"EGFR/EGFR.yaml\"    #state the exact folder contains the yaml file\n",
    ")\n",
    "importer = pypesto.petab.PetabImporter(petab_problem)\n",
    "# import to pypesto\n",
    "problem = importer.create_problem()\n",
    "model = importer.create_model(verbose=False)\n"
   ]
  },
  {
   "cell_type": "code",
   "execution_count": null,
   "metadata": {},
   "outputs": [],
   "source": [
    "\n",
    "# create optimizer object which contains all information for doing the optimization\n",
    "options = {'maxiter': 2000}\n",
    "optimizer = optimize.FidesOptimizer(options=options)\n",
    "\n",
    "\n",
    "#engine = pypesto.engine.SingleCoreEngine()\n",
    "engine = pypesto.engine.MultiProcessEngine()\n",
    "\n",
    "# do the optimization\n",
    "result = optimize.minimize(\n",
    "    problem=problem, optimizer=optimizer, n_starts=10\n",
    ")\n"
   ]
  },
  {
   "cell_type": "markdown",
   "metadata": {},
   "source": [
    "# Visualization"
   ]
  },
  {
   "cell_type": "code",
   "execution_count": null,
   "metadata": {},
   "outputs": [],
   "source": [
    "def get_x_mle(optimize_result, pypesto_problem, petab_problem, scaled=True):\n",
    "    if not scaled:\n",
    "        scaling = petab.parameters.get_optimization_parameter_scaling(\n",
    "            petab_problem.parameter_df\n",
    "        )\n",
    "    return {\n",
    "        x_id: (\n",
    "            petab.parameters.unscale(x_value, scaling[x_id])\n",
    "            if not scaled\n",
    "            else x_value\n",
    "        )\n",
    "        for x_id, x_value in zip(\n",
    "            pypesto_problem.x_names, optimize_result.list[0][\"x\"]\n",
    "        )\n",
    "        # if x_id in scaling\n",
    "    }\n",
    "x_mle_unscaled_original = get_x_mle(\n",
    "    result.optimize_result,\n",
    "    problem,\n",
    "    petab_problem,\n",
    "    scaled=False,\n",
    ")\n",
    "print(\"Parameters are estimated to be (linear scale):\")\n",
    "print(\n",
    "    \"\\n\".join(\n",
    "        [\n",
    "            f\"{x_id}: {x_value}\"\n",
    "            for x_id, x_value in x_mle_unscaled_original.items()\n",
    "        ]\n",
    "    )\n",
    ")\n",
    "\n",
    "import libsbml\n",
    "\n",
    "converter_config = libsbml.SBMLLocalParameterConverter().getDefaultProperties()\n",
    "petab_problem.sbml_document.convert(converter_config)\n",
    "\n",
    "obj = importer.create_objective()\n",
    "ref = visualize.create_references(\n",
    "    x=petab_problem.x_nominal_scaled, fval=obj(petab_problem.x_nominal_scaled)\n",
    ")\n",
    "\n",
    "visualize.waterfall(result, reference=ref, scale_y=\"lin\")\n",
    "visualize.parameters(result, reference=ref)"
   ]
  },
  {
   "cell_type": "markdown",
   "metadata": {},
   "source": [
    "# Outputs with Estimated Parameters"
   ]
  },
  {
   "cell_type": "code",
   "execution_count": null,
   "metadata": {},
   "outputs": [],
   "source": [
    "from pypesto.visualize.model_fit import visualize_optimized_model_fit\n",
    "\n",
    "pp1=visualize_optimized_model_fit(petab_problem=petab_problem, result=result)"
   ]
  },
  {
   "cell_type": "markdown",
   "metadata": {},
   "source": [
    "# Kholodenko's Model Output"
   ]
  },
  {
   "cell_type": "code",
   "execution_count": null,
   "metadata": {},
   "outputs": [],
   "source": [
    "folder = \"EGFR/\"     #state the exact folder contains .tsv files\n",
    "\n",
    "data_file_path = folder + \"measurementData_EGFR.tsv\"\n",
    "condition_file_path = folder + \"experimentalCondition_EGFR.tsv\"\n",
    "visualization_file_path2 = folder + \"visualizationSpecification_EGFR.tsv\"\n",
    "simulation_file_path = folder + \"simulatedData_EGFR.tsv\"\n",
    "pp2=petab.visualize.plot_petab_problem(\n",
    "  petab_problem,\n",
    "  simulation_file_path,\n",
    "  data_file_path\n",
    ")\n"
   ]
  },
  {
   "cell_type": "markdown",
   "metadata": {},
   "source": []
  }
 ],
 "metadata": {
  "kernelspec": {
   "display_name": "Python 3 (ipykernel)",
   "language": "python",
   "name": "python3"
  },
  "language_info": {
   "codemirror_mode": {
    "name": "ipython",
    "version": 3
   },
   "file_extension": ".py",
   "mimetype": "text/x-python",
   "name": "python",
   "nbconvert_exporter": "python",
   "pygments_lexer": "ipython3",
   "version": "3.8.10"
  }
 },
 "nbformat": 4,
 "nbformat_minor": 4
}
